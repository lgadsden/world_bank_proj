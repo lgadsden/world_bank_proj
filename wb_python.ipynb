{
 "cells": [
  {
   "cell_type": "code",
   "execution_count": null,
   "metadata": {
    "collapsed": true
   },
   "outputs": [],
   "source": [
    "import wbdata\n",
    "from datetime import datetime as dt\n",
    "import pandas as pd\n",
    "import MySQLdb as myDB\n",
    "from bs4 import BeautifulSoup as bs\n",
    "import urllib2\n",
    "import re"
   ]
  },
  {
   "cell_type": "markdown",
   "metadata": {},
   "source": [
    "## Get World Bank Country Data\n",
    "\n",
    "To make up fo missing data, the World Bank data is averaged from 2009 to 2012. Regions are removed from the data."
   ]
  },
  {
   "cell_type": "code",
   "execution_count": null,
   "metadata": {
    "collapsed": false
   },
   "outputs": [],
   "source": [
    "df = wbdata.get_dataframe(indicators = {\"VC.IHR.PSRC.P5\":\"homicides\", \"SL.UEM.TOTL.ZS\":\"unemployment\"}, data_date = dt(2012,1,1)                         )\n",
    "real_countries = df.index[34:].values"
   ]
  },
  {
   "cell_type": "markdown",
   "metadata": {},
   "source": [
    "#### wb_datatframe averages indicators over a select number of years"
   ]
  },
  {
   "cell_type": "code",
   "execution_count": null,
   "metadata": {
    "collapsed": true
   },
   "outputs": [],
   "source": [
    "def wb_dataframe(indicator, years):\n",
    "    \"creates dataframe for indicator over a specified range of years\"\n",
    "    column = wbdata.get_data(indicator, pandas=True, data_date = (dt(years[0],1,1),dt(years[1],1,1)))\n",
    "    column = column.unstack(1)\n",
    "    column = column.ix[real_countries,:]\n",
    "    column = column.mean(1)\n",
    "    return column"
   ]
  },
  {
   "cell_type": "code",
   "execution_count": null,
   "metadata": {
    "collapsed": true
   },
   "outputs": [],
   "source": [
    "inds = {\"homicides\":\"VC.IHR.PSRC.P5\",\"income_highest_10\":\"SI.DST.10TH.10\",\n",
    "        \"water_urban\":\"SH.H2O.SAFE.UR.ZS\", \"internet_users\":\"IT.NET.USER.P2\",\n",
    "        \"population_total\":\"SP.POP.TOTL\",\"land_area\":\"AG.LND.TOTL.K2\",\n",
    "        \"net_migration\":\"SM.POP.NETM\",        \n",
    "       }\n",
    "\n",
    "dat = {}\n",
    "for key,value in inds.iteritems():\n",
    "     dat[key]= wb_dataframe(value,[2009,2012])\n",
    "\n",
    "world_bank = pd.DataFrame(dat.values(), index = dat.keys()).transpose()"
   ]
  },
  {
   "cell_type": "code",
   "execution_count": null,
   "metadata": {
    "collapsed": false
   },
   "outputs": [],
   "source": [
    "world_bank"
   ]
  },
  {
   "cell_type": "markdown",
   "metadata": {},
   "source": [
    "# Get Avdvanced/Emerging Designations from IMF"
   ]
  },
  {
   "cell_type": "code",
   "execution_count": null,
   "metadata": {
    "collapsed": false
   },
   "outputs": [],
   "source": [
    "def imf_groups(site,table_num,data_name):\n",
    "    url = urllib2.urlopen(site)\n",
    "    soup = bs(url,'lxml')\n",
    "    tab = soup.findAll(\"table\")[table_num]\n",
    "    tab = [i.get_text() for i in tab.findAll(\"p\")]\n",
    "    tab = ''.join(tab)\n",
    "    tab = tab.splitlines()\n",
    "    tab = filter(None,tab)\n",
    "    finis = {tab[0]:tab[1:]}\n",
    "    imf_ser = pd.Series([data_name for i in finis.values()[0]],\n",
    "              index = finis.values()[0])\n",
    "    return imf_ser\n"
   ]
  },
  {
   "cell_type": "code",
   "execution_count": null,
   "metadata": {
    "collapsed": true
   },
   "outputs": [],
   "source": [
    "s3 =\"http://www.imf.org/external/pubs/ft/weo/2015/01/weodata/groups.htm\"\n",
    "\n",
    "adv_econ = imf_groups(s3, 4,\"adv\")\n",
    "\n",
    "emer_econ = imf_groups(s3,9,\"emer\")"
   ]
  },
  {
   "cell_type": "code",
   "execution_count": null,
   "metadata": {
    "collapsed": false
   },
   "outputs": [],
   "source": [
    "imf_list = adv_econ.append(emer_econ)"
   ]
  },
  {
   "cell_type": "code",
   "execution_count": null,
   "metadata": {
    "collapsed": false
   },
   "outputs": [],
   "source": [
    "#imf_list.index = imf_list.index.str.replace(r\"\\xf4\",\"o\")"
   ]
  },
  {
   "cell_type": "code",
   "execution_count": null,
   "metadata": {
    "collapsed": false,
    "scrolled": true
   },
   "outputs": [],
   "source": [
    "#imf_list.index = imf_list.index.str.replace(r\"S\\xe3o Tom\\xe9 and Pr\\xedncipe\",\"Sao Tome and Principe\")"
   ]
  },
  {
   "cell_type": "code",
   "execution_count": null,
   "metadata": {
    "collapsed": false
   },
   "outputs": [],
   "source": [
    "imf_grade = pd.DataFrame(imf_list,columns = [\"imf_grade\"])"
   ]
  },
  {
   "cell_type": "code",
   "execution_count": null,
   "metadata": {
    "collapsed": true
   },
   "outputs": [],
   "source": [
    "imf_grade.index.name = \"country\""
   ]
  },
  {
   "cell_type": "code",
   "execution_count": null,
   "metadata": {
    "collapsed": false
   },
   "outputs": [],
   "source": [
    "imf_grade"
   ]
  },
  {
   "cell_type": "markdown",
   "metadata": {},
   "source": [
    "# Create column for country regions "
   ]
  },
  {
   "cell_type": "code",
   "execution_count": null,
   "metadata": {
    "collapsed": false
   },
   "outputs": [],
   "source": [
    "site1 = \"https://meta.wikimedia.org/wiki/List_of_countries_by_regional_classification\"\n",
    "soup2 = bs(urllib2.urlopen(site1),'lxml')\n",
    "tab2 = soup2.find(\"table\",{\"class\":\"wikitable sortable\"})"
   ]
  },
  {
   "cell_type": "code",
   "execution_count": null,
   "metadata": {
    "collapsed": false
   },
   "outputs": [],
   "source": [
    "country = []\n",
    "region = []\n",
    "global_south = []\n",
    "\n",
    "for row in tab2.find_all('tr')[1:]:\n",
    "    col = row.find_all('td')\n",
    "    \n",
    "    column_1 = col[0].string.strip()\n",
    "    country.append(column_1)\n",
    "    \n",
    "    column_2 = col[1].string.strip()\n",
    "    region.append(column_2)\n",
    "    \n",
    "    column_3 = col[2].string.strip()\n",
    "    global_south.append(column_3)"
   ]
  },
  {
   "cell_type": "code",
   "execution_count": null,
   "metadata": {
    "collapsed": false
   },
   "outputs": [],
   "source": [
    "columns = {'country':country, 'region':region, 'global_south':global_south    \n",
    "}"
   ]
  },
  {
   "cell_type": "code",
   "execution_count": null,
   "metadata": {
    "collapsed": false
   },
   "outputs": [],
   "source": [
    "region_dat = pd.DataFrame(columns)"
   ]
  },
  {
   "cell_type": "code",
   "execution_count": null,
   "metadata": {
    "collapsed": false
   },
   "outputs": [],
   "source": [
    "region_dat"
   ]
  },
  {
   "cell_type": "markdown",
   "metadata": {},
   "source": [
    "# Load 3 Dataframes into mysql database"
   ]
  },
  {
   "cell_type": "code",
   "execution_count": null,
   "metadata": {
    "collapsed": false
   },
   "outputs": [],
   "source": [
    "#Inserts dataframe into MySQL\n",
    "con = myDB.connect(host='localhost', user='root', passwd='root')\n",
    "cursor = con.cursor()\n",
    "cursor.execute(\"CREATE DATABASE IF NOT EXISTS wb_homicide;\")\n",
    "con.select_db(\"wb_homicide\")"
   ]
  },
  {
   "cell_type": "code",
   "execution_count": null,
   "metadata": {
    "collapsed": false
   },
   "outputs": [],
   "source": [
    "world_bank.to_sql(con = con, flavor=\"mysql\", name = \"wb\", if_exists=\"replace\")\n",
    "\n",
    "imf_grade.to_sql(con = con, flavor=\"mysql\", name = \"imf\", if_exists=\"replace\")\n",
    "\n",
    "region_dat.to_sql(con = con, flavor=\"mysql\", name = \"region_dat\", if_exists=\"replace\")"
   ]
  },
  {
   "cell_type": "code",
   "execution_count": null,
   "metadata": {
    "collapsed": false
   },
   "outputs": [],
   "source": [
    "cursor.execute(\"SELECT * FROM wb\")\n",
    "cursor.fetchall()"
   ]
  },
  {
   "cell_type": "code",
   "execution_count": null,
   "metadata": {
    "collapsed": true
   },
   "outputs": [],
   "source": []
  }
 ],
 "metadata": {
  "kernelspec": {
   "display_name": "Python 2",
   "language": "python",
   "name": "python2"
  },
  "language_info": {
   "codemirror_mode": {
    "name": "ipython",
    "version": 2
   },
   "file_extension": ".py",
   "mimetype": "text/x-python",
   "name": "python",
   "nbconvert_exporter": "python",
   "pygments_lexer": "ipython2",
   "version": "2.7.6"
  }
 },
 "nbformat": 4,
 "nbformat_minor": 0
}
